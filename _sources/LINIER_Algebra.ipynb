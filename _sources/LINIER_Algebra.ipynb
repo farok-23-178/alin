{
  "nbformat": 4,
  "nbformat_minor": 0,
  "metadata": {
    "colab": {
      "provenance": []
    },
    "kernelspec": {
      "name": "python3",
      "display_name": "Python 3"
    },
    "language_info": {
      "name": "python"
    }
  },
  "cells": [
    {
      "cell_type": "markdown",
      "source": [
        "##konsep eigen value dan eigen vektor##"
      ],
      "metadata": {
        "id": "SMfHgp1Q1_6i"
      }
    },
    {
      "cell_type": "markdown",
      "source": [
        "Analisis Komponen Utama\n",
        "Secara intuitif , PCA adalah prosedur transformasi yang mengubah matriks data dengan fitur-fitur yang mungkin berkorelasi menjadi sekumpulan variabel yang tidak berkorelasi linier yang disebut komponen utama . Setiap komponen utama merupakan kombinasi linier dari fitur asli ( PCᵢ = Xϕᵢ , di sini PCᵢ adalah singkatan dari komponen utama ke-i) dan memperhitungkan varian terbesar yang mungkin terjadi serta ortogonal terhadap komponen sebelumnya (jika i ≠ j, PCᵢ ⋅ PCⱼ = 0 ).\n",
        "\n",
        "Mengingat matriks fitur X berbentuk n × p yang berada di tengah , yaitu rata-rata kolom telah dikurangi dan sekarang sama dengan nol , kasus penggunaan PCA yang umum meliputi:"
      ],
      "metadata": {
        "id": "xKi_l0Nv2C0h"
      }
    },
    {
      "cell_type": "markdown",
      "source": [
        "1.Pengurangan dimensi: temukan perkiraan dimensi yang lebih rendah dari X bentuk n × k (di mana k jauh lebih kecil dari p ) dengan tetap mempertahankan sebagian besar varian, sebagai langkah pra-pemrosesan untuk klasifikasi atau visualisasi.\n",
        "\n",
        "2.Rekayasa fitur: membuat representasi baru dari X dengan p fitur yang tidak berkorelasi linier.\n",
        "\n",
        "3.Pembelajaran tanpa pengawasan: ekstrak k komponen utama (di mana k seringkali jauh lebih kecil dari p ).\n",
        "\n",
        "4.Pahami kumpulan data dengan melihat bagaimana fitur asli berkontribusi terhadap faktor-faktor ini"
      ],
      "metadata": {
        "id": "eYBlOU7NG4CG"
      }
    },
    {
      "cell_type": "markdown",
      "source": [
        "#PCA melalui Dekomposisi Nilai Eigen\n",
        "\n",
        "\n",
        "Secara konvensional, PCA didasarkan pada EVD pada matriks kovarians sampel C . Dengan asumsi X berada di tengah:\n",
        "\n",
        "\n",
        "C berbentuk p× p . Ini simetris dan karenanya selalu dapat didiagonalisasi. Kita dapat menerapkan dekomposisi nilai eigen:\n",
        "\n",
        "\n",
        "Q adalah matriks ortogonal dan kolom-kolomnya merupakan vektor eigen dari C\n",
        "\n",
        " ( Q =[ q₁ , q₂ , …, qₚ ])\n",
        "\n",
        ". ∧ adalah matriks diagonal dengan nilai eigen dalam urutan menurun pada diagonalnya\n",
        "\n",
        "( λ₁ ≥ λ₂ ≥ … ≥ λₚ ≥ 0):\n",
        "\n",
        "\n",
        "Di sini qᵢ adalah kolom ke-i dari Q dan disebut juga arah utama ke-i . λᵢ adalah elemen diagonal ke-i dari ∧. Komponen utama merupakan proyeksi matriks fitur asli pada arah utama dan dapat diperoleh dengan XQ . Proporsi varians total yang dijelaskan oleh komponen utama ke-i adalah\n",
        "\n",
        " λᵢ / (λ₁ + λ₂ + .. + λₚ) .\n",
        "\n",
        "Di bawah ini adalah implementasi PCA melalui EVD dengan Python:"
      ],
      "metadata": {
        "id": "TmAC3Gx22JJs"
      }
    },
    {
      "cell_type": "code",
      "source": [
        "\n",
        "import numpy as np\n",
        "\n",
        "\n",
        "def pcaEVD(X):\n",
        "    # Center X and get covariance matrix C\n",
        "    n, p = X.shape\n",
        "    X -= X.mean(axis=0)\n",
        "    C = (X.T@X) / (n-1)\n",
        "\n",
        "    # EVD\n",
        "    e_vals, e_vecs = np.linalg.eig(C)\n",
        "    idx = e_vals.argsort()[::-1]\n",
        "    e_vals = e_vals[idx]\n",
        "    e_vecs = e_vecs[:, idx]\n",
        "\n",
        "    # Return principal compnents and eigenvalues to calculate the portion of sample variance explained\n",
        "    return (X @ e_vecs), e_vals"
      ],
      "metadata": {
        "id": "PUchCvV3I0Nh"
      },
      "execution_count": 2,
      "outputs": []
    },
    {
      "cell_type": "markdown",
      "source": [
        "#PCA melalui Dekomposisi Nilai Singular\n",
        "\n",
        "Untuk matriks X, t di sini selalu ada matriks U , Σ , V sedemikian rupa sehingga:\n",
        "\n",
        "\n",
        "U dan V keduanya ortogonal dan Σ diagonal. Elemen diagonal dari Σ disebut nilai singular ( σ₁ ≥ σ₂ ≥ … ≥ σₚ ≥ 0). Pertimbangkan matriks kovarians C :\n",
        "\n",
        "\n",
        "Bandingkan dengan di atas, kita tahu bahwa kolom V adalah arah utama, dan nilai eigen ke-i λᵢ = σᵢ²/(n-1) . Komponen utama dapat diperoleh dengan XV = UΣ .\n",
        "\n",
        "Bagaimana cara ini lebih baik dibandingkan penerapan EVD?\n",
        "\n",
        "Efisiensi komputasi: untuk data berdimensi tinggi ( p >> n ), melakukan penghitungan dengan matriks kovarians C bisa menjadi tidak efisien.\n",
        "Presisi numerik: pembentukan matriks kovarians C dapat menyebabkan hilangnya presisi.\n",
        "Stabilitas numerik: sebagian besar implementasi SVD menggunakan pendekatan bagi-dan-taklukkan, sedangkan implementasi EVD menggunakan algoritma QR yang kurang stabil .\n",
        "Di bawah ini adalah implementasi PCA melalui SVD dengan Python:"
      ],
      "metadata": {
        "id": "gH4UQg693m72"
      }
    },
    {
      "cell_type": "code",
      "source": [
        "\n",
        "def pcaSVD(X):\n",
        "    # Center X and get covariance matrix C\n",
        "    n, p = X.shape\n",
        "    X -= X.mean(axis=0)\n",
        "\n",
        "    # SVD\n",
        "    u, sigma, vt = np.linalg.svd(X, full_matrices=False)\n",
        "\n",
        "    # Return principal compnents and eigenvalues to calculate the portion of sample variance explained\n",
        "    return (X @ vt.T), (sigma**2) / (n-1)"
      ],
      "metadata": {
        "id": "-NPoAne73xr4"
      },
      "execution_count": 4,
      "outputs": []
    },
    {
      "cell_type": "markdown",
      "source": [
        "#PCA untuk Pembelajaran Tanpa Pengawasan\n",
        "\n",
        "Kami akan menggunakan kumpulan data bunga Iris sebagai ilustrasi tentang cara kerja PCA sebagai alat pembelajaran tanpa pengawasan untuk membantu memahami data.\n",
        "\n",
        "Kami akan memuat kumpulan data Iris dari scikit-learn . Matriks fitur berisi 150 observasi pada 4 atribut. Setiap baris berisi ukuran panjang dan lebar (dalam cm) sepal dan kelopak bunga iris. Targetnya adalah jenis (1 dari 3) bunganya, namun kita hanya akan menggunakannya untuk visualisasi.\n",
        "\n",
        "Muat kumpulan data, lakukan prapemrosesan data, dan terapkan SVD. Pertanyaan penting dalam mempersiapkan PCA adalah apakah akan membakukan kumpulan data (yaitu memastikan deviasi standar setiap kolom adalah satu) selain pemusatan. Dari sudut pandang saya, jika fitur-fiturnya berada pada skala yang sama, standarisasi tidak diperlukan. Oleh karena itu, kami hanya akan memusatkan matriks fitur di bawah."
      ],
      "metadata": {
        "id": "YOk21PBA4SHD"
      }
    },
    {
      "cell_type": "markdown",
      "source": [
        "nilai determinan dari matriks segitiga atas dan bawah sesuai dengan aturan bahwa determinan dari matriks segitiga adalah hasil perkalian dari elemen-elemen diagonal utamanya"
      ],
      "metadata": {
        "id": "nD5M4JmT6kxe"
      }
    },
    {
      "cell_type": "code",
      "source": [
        "\n",
        "from sklearn.datasets import load_iris\n",
        "\n",
        "\n",
        "iris = load_iris()\n",
        "X = iris['data']\n",
        "y = iris['target']\n",
        "\n",
        "X_ = X - X.mean(axis=0)\n",
        "u, sigma, vt = np.linalg.svd(X_, full_matrices=False)"
      ],
      "metadata": {
        "id": "C2wQdR3_6axQ"
      },
      "execution_count": 5,
      "outputs": []
    },
    {
      "cell_type": "markdown",
      "source": [
        "#contoh hitung eigen value dan eigen vektor pake numpy\n",
        "\n",
        "Untuk menghitung nilai eigen (eigenvalues) dan vektor eigen (eigenvectors) dari sebuah matriks menggunakan numpy, kamu bisa menggunakan fungsi numpy.linalg.eig.\n",
        "Berikut adalah langkah-langkah dan contoh kode untuk melakukannya:\n",
        "\n",
        "Impor numpy.\n",
        "\n",
        "1.Definisikan matriks yang ingin kamu hitung nilai eigen dan vektor eigennya.\n",
        "\n",
        "2.Gunakan fungsi numpy.linalg.eig untuk menghitung nilai eigen dan vektor eigen.\n",
        "\n",
        "3.Tampilkan hasilnya.\n",
        "\n",
        "Berikut adalah contoh kode lengkapnya:"
      ],
      "metadata": {
        "id": "iqJXhAcgLvL1"
      }
    },
    {
      "cell_type": "code",
      "source": [
        "import numpy as np\n",
        "\n",
        "# Definisikan matriks\n",
        "A = np.array([[4, 2],\n",
        "              [1, 3]])\n",
        "\n",
        "# Hitung nilai eigen dan vektor eigen\n",
        "eigenvalues, eigenvectors = np.linalg.eig(A)\n",
        "\n",
        "# Tampilkan hasilnya\n",
        "print(\"Nilai Eigen (Eigenvalues):\")\n",
        "print(eigenvalues)\n",
        "\n",
        "print(\"\\nVektor Eigen (Eigenvectors):\")\n",
        "print(eigenvectors)\n"
      ],
      "metadata": {
        "colab": {
          "base_uri": "https://localhost:8080/"
        },
        "id": "u5iCbbiHMK4v",
        "outputId": "8044d1ca-4c37-493f-efcf-024fff796230"
      },
      "execution_count": 6,
      "outputs": [
        {
          "output_type": "stream",
          "name": "stdout",
          "text": [
            "Nilai Eigen (Eigenvalues):\n",
            "[5. 2.]\n",
            "\n",
            "Vektor Eigen (Eigenvectors):\n",
            "[[ 0.89442719 -0.70710678]\n",
            " [ 0.4472136   0.70710678]]\n"
          ]
        }
      ]
    },
    {
      "cell_type": "markdown",
      "source": [
        "Penjelasan:\n",
        "\n",
        "A adalah matriks 2x2 yang ingin kita analisis.\n",
        "\n",
        "1.np.linalg.eig(A) mengembalikan dua objek: array eigenvalues dan matriks eigenvectors.\n",
        "\n",
        "2.eigenvalues adalah array yang berisi nilai eigen dari matriks A.\n",
        "\n",
        "3.eigenvectors adalah matriks di mana setiap kolomnya adalah vektor eigen yang sesuai dengan nilai eigen pada posisi yang sama dalam array eigenvalues.\n",
        "\n"
      ],
      "metadata": {
        "id": "e7vCPUBuM32i"
      }
    },
    {
      "cell_type": "markdown",
      "source": [],
      "metadata": {
        "id": "93d81nHXNSY5"
      }
    }
  ]
}