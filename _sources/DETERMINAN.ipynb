{
  "cells": [
    {
      "cell_type": "markdown",
      "metadata": {
        "id": "SMfHgp1Q1_6i"
      },
      "source": [
        "##DETERMINAN##"
      ]
    },
    {
      "cell_type": "markdown",
      "metadata": {
        "id": "xKi_l0Nv2C0h"
      },
      "source": [
        "\n",
        "1. Definisi Determinan:\n",
        "Determinan adalah suatu fungsi yang didefinisikan untuk matriks persegi.\n",
        "Untuk matriks\n",
        "𝐴\n",
        "A berukuran\n",
        "𝑛\n",
        "×\n",
        "𝑛\n",
        "n×n, determinan diwakili dengan\n",
        "det\n",
        "(\n",
        "𝐴\n",
        ")\n",
        "det(A)."
      ]
    },
    {
      "cell_type": "markdown",
      "metadata": {
        "id": "TmAC3Gx22JJs"
      },
      "source": [
        "2. Sifat-Sifat Determinan:"
      ]
    },
    {
      "cell_type": "markdown",
      "metadata": {
        "id": "coXtW_dj2M_j"
      },
      "source": [
        "a. Properti Dasar:\n",
        "- Determinan Matriks Identitas:\n",
        "det\n",
        "(\n",
        "𝐼\n",
        ")\n",
        "=\n",
        "1\n",
        "det(I)=1\n",
        "- Pertukaran Baris: Ketika dua baris matriks ditukar, tanda determinan berubah.\n",
        "- Pengalikan Baris dengan Skalar: Jika satu baris matriks dikalikan dengan skalar\n",
        "𝑘\n",
        "k, determinan juga dikalikan dengan\n",
        "𝑘\n",
        "k."
      ]
    },
    {
      "cell_type": "code",
      "execution_count": 1,
      "metadata": {
        "colab": {
          "base_uri": "https://localhost:8080/"
        },
        "id": "5fsqSazm291-",
        "outputId": "167cbda6-1143-4499-8c31-2d1fc0bdb82b"
      },
      "outputs": [
        {
          "name": "stdout",
          "output_type": "stream",
          "text": [
            "Determinan Matriks Identitas:\n",
            "1.0\n",
            "\n",
            "Determinan Matriks Awal:\n",
            "0.0\n",
            "Determinan Matriks Setelah Pertukaran Baris:\n",
            "0.0\n",
            "\n",
            "Determinan Matriks Awal:\n",
            "0.0\n",
            "Determinan Matriks Setelah Pengalikan Baris dengan Skalar:\n",
            "0.0\n"
          ]
        }
      ],
      "source": [
        "import numpy as np\n",
        "\n",
        "# Properti Dasar\n",
        "# 1. Determinan Matriks Identitas\n",
        "identity_matrix = np.identity(3)\n",
        "det_identity = np.linalg.det(identity_matrix)\n",
        "print(\"Determinan Matriks Identitas:\")\n",
        "print(det_identity)\n",
        "\n",
        "# 2. Pertukaran Baris\n",
        "matrix1 = np.array([[1, 2, 3],\n",
        "                    [4, 5, 6],\n",
        "                    [7, 8, 9]])\n",
        "matrix2 = np.array([[4, 5, 6],\n",
        "                    [1, 2, 3],\n",
        "                    [7, 8, 9]])\n",
        "det_matrix1 = np.linalg.det(matrix1)\n",
        "det_matrix2 = np.linalg.det(matrix2)\n",
        "print(\"\\nDeterminan Matriks Awal:\")\n",
        "print(det_matrix1)\n",
        "print(\"Determinan Matriks Setelah Pertukaran Baris:\")\n",
        "print(det_matrix2)\n",
        "\n",
        "# 3. Pengalikan Baris dengan Skalar\n",
        "scalar = 2\n",
        "matrix3 = np.array([[1, 2, 3],\n",
        "                    [4, 5, 6],\n",
        "                    [7, 8, 9]])\n",
        "matrix4 = matrix3 * scalar\n",
        "det_matrix3 = np.linalg.det(matrix3)\n",
        "det_matrix4 = np.linalg.det(matrix4)\n",
        "print(\"\\nDeterminan Matriks Awal:\")\n",
        "print(det_matrix3)\n",
        "print(\"Determinan Matriks Setelah Pengalikan Baris dengan Skalar:\")\n",
        "print(det_matrix4)"
      ]
    },
    {
      "cell_type": "markdown",
      "metadata": {
        "id": "gH4UQg693m72"
      },
      "source": [
        "b. Properti Terkait Operasi Matriks:\n",
        "- Penjumlahan Matriks: Determinan dari hasil penjumlahan dua matriks adalah penjumlahan determinan masing-masing matriks.\n",
        "- Perkalian Matriks: Determinan dari hasil perkalian dua matriks adalah perkalian determinan masing-masing matriks.\n",
        "- Transpos Matriks: Determinan matriks transpos sama dengan determinan matriks aslinya."
      ]
    },
    {
      "cell_type": "code",
      "execution_count": 2,
      "metadata": {
        "colab": {
          "base_uri": "https://localhost:8080/"
        },
        "id": "-NPoAne73xr4",
        "outputId": "641fcf80-0ad3-4348-fcaa-8f3961b82573"
      },
      "outputs": [
        {
          "name": "stdout",
          "output_type": "stream",
          "text": [
            "\n",
            "Determinan Matriks Pertama:\n",
            "-2.0000000000000004\n",
            "Determinan Matriks Kedua:\n",
            "-2.000000000000005\n",
            "Determinan Hasil Penjumlahan Matriks:\n",
            "-7.999999999999991\n",
            "\n",
            "Determinan Matriks Pertama:\n",
            "-2.0000000000000004\n",
            "Determinan Matriks Kedua:\n",
            "-2.000000000000005\n",
            "Determinan Hasil Perkalian Matriks:\n",
            "4.000000000000008\n",
            "\n",
            "Determinan Matriks Awal:\n",
            "-2.0000000000000004\n",
            "Determinan Matriks Transpos:\n",
            "-2.0\n"
          ]
        }
      ],
      "source": [
        "# Properti Terkait Operasi Matriks\n",
        "# 1. Penjumlahan Matriks\n",
        "matrix5 = np.array([[1, 2],\n",
        "                    [3, 4]])\n",
        "matrix6 = np.array([[5, 6],\n",
        "                    [7, 8]])\n",
        "matrix_sum = matrix5 + matrix6\n",
        "det_matrix_sum = np.linalg.det(matrix_sum)\n",
        "det_matrix5 = np.linalg.det(matrix5)\n",
        "det_matrix6 = np.linalg.det(matrix6)\n",
        "print(\"\\nDeterminan Matriks Pertama:\")\n",
        "print(det_matrix5)\n",
        "print(\"Determinan Matriks Kedua:\")\n",
        "print(det_matrix6)\n",
        "print(\"Determinan Hasil Penjumlahan Matriks:\")\n",
        "print(det_matrix_sum)\n",
        "\n",
        "# 2. Perkalian Matriks\n",
        "matrix7 = np.array([[1, 2],\n",
        "                    [3, 4]])\n",
        "matrix8 = np.array([[5, 6],\n",
        "                    [7, 8]])\n",
        "matrix_product = np.dot(matrix7, matrix8)\n",
        "det_matrix_product = np.linalg.det(matrix_product)\n",
        "det_matrix7 = np.linalg.det(matrix7)\n",
        "det_matrix8 = np.linalg.det(matrix8)\n",
        "print(\"\\nDeterminan Matriks Pertama:\")\n",
        "print(det_matrix7)\n",
        "print(\"Determinan Matriks Kedua:\")\n",
        "print(det_matrix8)\n",
        "print(\"Determinan Hasil Perkalian Matriks:\")\n",
        "print(det_matrix_product)\n",
        "\n",
        "# 3. Transpos Matriks\n",
        "matrix9 = np.array([[1, 2],\n",
        "                    [3, 4]])\n",
        "matrix_transpose = np.transpose(matrix9)\n",
        "det_matrix9 = np.linalg.det(matrix9)\n",
        "det_matrix_transpose = np.linalg.det(matrix_transpose)\n",
        "print(\"\\nDeterminan Matriks Awal:\")\n",
        "print(det_matrix9)\n",
        "print(\"Determinan Matriks Transpos:\")\n",
        "print(det_matrix_transpose)"
      ]
    },
    {
      "cell_type": "markdown",
      "metadata": {
        "id": "YOk21PBA4SHD"
      },
      "source": [
        "c.untuk menukar baris atau kolom pada matriks dan menghitung determinannya:"
      ]
    },
    {
      "cell_type": "code",
      "execution_count": 3,
      "metadata": {
        "colab": {
          "base_uri": "https://localhost:8080/"
        },
        "id": "-LO50vxM532P",
        "outputId": "befe11c3-8b66-45a2-cc02-e04f91941c54"
      },
      "outputs": [
        {
          "name": "stdout",
          "output_type": "stream",
          "text": [
            "Matriks Awal:\n",
            "[[1 2 3]\n",
            " [4 5 6]\n",
            " [7 8 9]]\n",
            "Determinan Awal: 0.0\n",
            "\n",
            "Setelah Menukar Baris 1 dan 2:\n",
            "[[4 5 6]\n",
            " [1 2 3]\n",
            " [7 8 9]]\n",
            "Determinan Setelah Menukar Baris 1 dan 2: 0.0\n",
            "\n",
            "Setelah Menukar Kolom 0 dan 2:\n",
            "[[6 5 4]\n",
            " [3 2 1]\n",
            " [9 8 7]]\n",
            "Determinan Setelah Menukar Kolom 0 dan 2: 0.0\n"
          ]
        }
      ],
      "source": [
        "import numpy as np\n",
        "\n",
        "# Matriks contoh\n",
        "A = np.array([[1, 2, 3],\n",
        "              [4, 5, 6],\n",
        "              [7, 8, 9]])\n",
        "\n",
        "# Fungsi untuk menukar dua baris pada matriks\n",
        "def swap_rows(matrix, row1, row2):\n",
        "    matrix[[row1, row2]] = matrix[[row2, row1]]\n",
        "\n",
        "# Fungsi untuk menukar dua kolom pada matriks\n",
        "def swap_columns(matrix, col1, col2):\n",
        "    matrix[:, [col1, col2]] = matrix[:, [col2, col1]]\n",
        "\n",
        "# Cetak matriks awal dan determinannya\n",
        "print(\"Matriks Awal:\")\n",
        "print(A)\n",
        "print(\"Determinan Awal:\", np.linalg.det(A))\n",
        "\n",
        "# Menukar baris ke-1 dan ke-2\n",
        "swap_rows(A, 0, 1)\n",
        "print(\"\\nSetelah Menukar Baris 1 dan 2:\")\n",
        "print(A)\n",
        "print(\"Determinan Setelah Menukar Baris 1 dan 2:\", np.linalg.det(A))\n",
        "\n",
        "# Menukar kolom ke-0 dan ke-2\n",
        "swap_columns(A, 0, 2)\n",
        "print(\"\\nSetelah Menukar Kolom 0 dan 2:\")\n",
        "print(A)\n",
        "print(\"Determinan Setelah Menukar Kolom 0 dan 2:\", np.linalg.det(A))\n"
      ]
    },
    {
      "cell_type": "markdown",
      "metadata": {
        "id": "HJLeApG857uP"
      },
      "source": [
        "##MATRIKS SEGITIGA"
      ]
    },
    {
      "cell_type": "markdown",
      "metadata": {
        "id": "nD5M4JmT6kxe"
      },
      "source": [
        "nilai determinan dari matriks segitiga atas dan bawah sesuai dengan aturan bahwa determinan dari matriks segitiga adalah hasil perkalian dari elemen-elemen diagonal utamanya"
      ]
    },
    {
      "cell_type": "code",
      "execution_count": 5,
      "metadata": {
        "colab": {
          "base_uri": "https://localhost:8080/"
        },
        "id": "C2wQdR3_6axQ",
        "outputId": "e870b3a3-bc99-46a8-d61d-047fdd9623ad"
      },
      "outputs": [
        {
          "name": "stdout",
          "output_type": "stream",
          "text": [
            "Matriks Segitiga Atas:\n",
            "1\t2\t3\t\n",
            "0\t4\t5\t\n",
            "0\t0\t6\t\n",
            "Determinan: 24\n",
            "\n",
            "Matriks Segitiga Bawah:\n",
            "1\t0\t0\t\n",
            "0\t5\t0\t\n",
            "0\t0\t9\t\n",
            "Determinan: 45\n"
          ]
        }
      ],
      "source": [
        "import numpy as np\n",
        "\n",
        "# Matriks segitiga atas contoh\n",
        "A = np.array([[1, 2, 3],\n",
        "              [0, 4, 5],\n",
        "              [0, 0, 6]])\n",
        "\n",
        "# Matriks segitiga bawah contoh\n",
        "B = np.array([[1, 0, 0],\n",
        "              [4, 5, 0],\n",
        "              [7, 8, 9]])\n",
        "\n",
        "# Fungsi untuk mencetak matriks segitiga beserta determinannya\n",
        "def print_triangular_matrix(matrix):\n",
        "    rows, cols = matrix.shape\n",
        "    for i in range(rows):\n",
        "        for j in range(cols):\n",
        "            if j < i:\n",
        "                print(\"0\", end=\"\\t\")\n",
        "            else:\n",
        "                print(matrix[i, j], end=\"\\t\")\n",
        "        print()\n",
        "    print(\"Determinan:\", np.prod(np.diagonal(matrix)))\n",
        "\n",
        "# Cetak matriks segitiga atas dan determinannya\n",
        "print(\"Matriks Segitiga Atas:\")\n",
        "print_triangular_matrix(A)\n",
        "\n",
        "# Cetak matriks segitiga bawah dan determinannya\n",
        "print(\"\\nMatriks Segitiga Bawah:\")\n",
        "print_triangular_matrix(B)\n"
      ]
    },
    {
      "cell_type": "markdown",
      "metadata": {
        "id": "BjyuWzH07E6P"
      },
      "source": [
        "##Metode ekspansi kofaktor"
      ]
    },
    {
      "cell_type": "markdown",
      "metadata": {
        "id": "_OL-HQRD75op"
      },
      "source": [
        "adalah salah satu cara untuk menghitung determinan dari matriks persegi. Metode ini melibatkan dekomposisi matriks menjadi matriks minor dan matriks kofaktor."
      ]
    },
    {
      "cell_type": "markdown",
      "metadata": {
        "id": "cgBB19Ma8Ae3"
      },
      "source": [
        "Mari kita jelaskan langkah-langkahnya dengan lebih detail:\n",
        "\n",
        "Pilih Baris atau Kolom: Pertama, kita memilih baris atau kolom dari matriks yang akan kita gunakan untuk menghitung determinan. Pilihan ini bisa sesuai dengan preferensi atau kebutuhan perhitungan.\n",
        "Ekspansi: Setelah baris atau kolom dipilih, kita ekspansi matriks tersebut dengan menggunakan kofaktor. Ini berarti setiap elemen dalam baris atau kolom tersebut akan dikalikan dengan kofaktornya yang sesuai.\n",
        "Kofaktor: Kofaktor dari setiap elemen adalah determinan dari matriks minor yang dihasilkan dengan menghapus baris dan kolom yang berisi elemen tersebut, dikalikan dengan faktor penentu yang sesuai. Faktor penentu ini adalah (-1)^(i+j) di mana i dan j adalah indeks baris dan kolom dari elemen tersebut.\n",
        "Determinan: Setelah mengalikan setiap elemen dengan kofaktornya masing-masing, kita menjumlahkan hasilnya. Ini akan menghasilkan nilai determinan dari matriks."
      ]
    },
    {
      "cell_type": "code",
      "execution_count": 6,
      "metadata": {
        "colab": {
          "base_uri": "https://localhost:8080/"
        },
        "id": "LResWN4m8NjZ",
        "outputId": "51f0e66f-6f23-4533-d8f6-d1af3bc458d0"
      },
      "outputs": [
        {
          "name": "stdout",
          "output_type": "stream",
          "text": [
            "Determinan menggunakan kofaktor: 0.0\n"
          ]
        }
      ],
      "source": [
        "import numpy as np\n",
        "\n",
        "# Fungsi untuk menghitung matriks kofaktor\n",
        "def cofactor_matrix(matrix):\n",
        "    rows, cols = matrix.shape\n",
        "    cofactor_mat = np.zeros((rows, cols))\n",
        "    for i in range(rows):\n",
        "        for j in range(cols):\n",
        "            minor = np.delete(np.delete(matrix, i, axis=0), j, axis=1)\n",
        "            cofactor_mat[i, j] = (-1) ** (i + j) * np.linalg.det(minor)\n",
        "    return cofactor_mat\n",
        "\n",
        "# Fungsi untuk menghitung determinan dari matriks menggunakan kofaktor\n",
        "def determinant_with_cofactor(matrix):\n",
        "    cofactors = cofactor_matrix(matrix)\n",
        "    det = np.sum(matrix[0] * cofactors[0])\n",
        "    return det\n",
        "\n",
        "# Matriks contoh\n",
        "A = np.array([[1, 2, 3],\n",
        "              [4, 5, 6],\n",
        "              [7, 8, 9]])\n",
        "\n",
        "# Hitung determinan menggunakan kofaktor\n",
        "determinant = determinant_with_cofactor(A)\n",
        "print(\"Determinan menggunakan kofaktor:\", determinant)\n"
      ]
    }
  ],
  "metadata": {
    "colab": {
      "provenance": []
    },
    "kernelspec": {
      "display_name": "Python 3",
      "name": "python3"
    },
    "language_info": {
      "name": "python"
    }
  },
  "nbformat": 4,
  "nbformat_minor": 0
}
