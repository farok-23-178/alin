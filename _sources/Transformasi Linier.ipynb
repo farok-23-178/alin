{
 "cells": [
  {
   "cell_type": "markdown",
   "metadata": {},
   "source": [
    "#  Transformasi Linier"
   ]
  },
  {
   "cell_type": "markdown",
   "metadata": {},
   "source": [
    "## Definisi Transformasi Linier\n",
    "\n",
    "Transformasi linier adalah fungsi yang memetakan elemen-elemen pada suatu ruang vektor ke elemen-elemen pada ruang vektor lainnya, dengan mempertahankan sifat-sifat linier.\n",
    "\n",
    "Secara matematis, jika T adalah transformasi linier dari ruang vektor U ke ruang vektor V, maka T harus memenuhi dua syarat: T(u+v) = T(u) + T(v) dan T(ku) = kT(u), untuk setiap u dan v pada U, dan setiap skalar k."
   ]
  },
  {
   "cell_type": "code",
   "execution_count": null,
   "metadata": {},
   "outputs": [
    {
     "name": "stdout",
     "output_type": "stream",
     "text": [
      "Matriks transformasi yang benar:\n",
      "[[-1  0]\n",
      " [ 0  1]]\n"
     ]
    }
   ],
   "source": [
    "import numpy as np\n",
    "\n",
    "# Definisikan vektor kolom sebagai array NumPy\n",
    "vector = np.array([[1], [0]])\n",
    "\n",
    "# Target vektor setelah transformasi\n",
    "target_vector = np.array([[-1], [0]])\n",
    "\n",
    "# Matriks yang akan membawa vector ke target_vector\n",
    "# Dengan mempertimbangkan bahwa kita hanya tahu nilai untuk baris pertama,\n",
    "# kita bisa memilih nilai apa pun untuk elemen lain yang tidak bertentangan\n",
    "# dengan transformasi yang diinginkan.\n",
    "# Misalnya, kita bisa memilih elemen (2,2) sebagai 1 dan elemen (2,1) sebagai 0\n",
    "# untuk tidak mengubah komponen y dari vektor.\n",
    "transformation_matrix = np.array([[-1, 0], [0, 1]])\n",
    "\n",
    "# Cek apakah matriks benar-benar membawa vector ke target_vector\n",
    "result_vector = transformation_matrix.dot(vector)\n",
    "\n",
    "# Verifikasi hasil\n",
    "if np.array_equal(result_vector, target_vector):\n",
    "    print(\"Matriks transformasi yang benar:\")\n",
    "    print(transformation_matrix)\n",
    "else:\n",
    "    print(\"Matriks transformasi tidak benar.\")"
   ]
  },
  {
   "cell_type": "markdown",
   "metadata": {},
   "source": [
    "## Sifat-sifat Transformasi Linier\n",
    "\n",
    "Transformasi linier memiliki beberapa sifat penting, yaitu:\n",
    "\n",
    "1. Kekontinuan: Transformasi linier adalah fungsi kontinyu, artinya perubahan kecil pada input akan menghasilkan perubahan kecil pada output.\n",
    "\n",
    "2. Kelinieran: Transformasi linier mempertahankan sifat-sifat linier, seperti sifat distributif dan sifat homogen.\n",
    "\n",
    "3. Invertibilitas: Jika transformasi linier T bersifat bijektif, maka T memiliki invers yang juga merupakan transformasi linier."
   ]
  },
  {
   "cell_type": "markdown",
   "metadata": {},
   "source": [
    "## Cara mendapatkan fungsi transformasi matriks\n",
    "\n",
    "Untuk mendapatkan fungsi transformasi matriks, kita perlu memahami bahwa setiap operasi transformasi geometri dalam ruang dua dimensi atau tiga dimensi bisa direpresentasikan sebagai perkalian matriks dengan vektor-vektor yang mewakili titik-titik dalam ruang tersebut.\n",
    "\n",
    "Berikut adalah beberapa jenis transformasi yang umum dan matriks yang mewakilinya:\n",
    "\n",
    "1. **Translasi** (geseran):\n",
    "   Dalam dua dimensi, translasi titik (x, y) ke (x+t_x, y+t_y) tidak bisa direpresentasikan dalam bentuk perkalian matriks biasa karena membutuhkan afine transformation. Namun, kita bisa menggunakan homogeneous coordinates untuk mencapai ini:\n",
    "   ```\n",
    "   [1 0 t_x] [x]   [x + t_x]\n",
    "   [0 1 t_y] [y] = [y + t_y]\n",
    "   [0 0  1 ] [1]   [   1    ]\n",
    "   ```\n",
    "\n",
    "2. **Rotasi**:\n",
    "   Rotasi titik-titik di sekitar asal dengan sudut θ:\n",
    "   ```\n",
    "   [cos(θ) -sin(θ)] [x]   [x*cos(θ) - y*sin(θ)]\n",
    "   [sin(θ)  cos(θ)] [y] = [x*sin(θ) + y*cos(θ)]\n",
    "   ```\n",
    "\n",
    "3. **Skala** (perbesaran/pengecilan):\n",
    "   Skala titik-titik dengan faktor s_x dan s_y sepanjang sumbu x dan y:\n",
    "   ```\n",
    "   [s_x  0] [x]   [s_x*x]\n",
    "   [0   s_y] [y] = [s_y*y]\n",
    "   ```\n",
    "\n",
    "4. **Refleksi** (pencerminan):\n",
    "   Refleksi terhadap sumbu x, y, atau garis y = x:\n",
    "   - Terhadap sumbu x:\n",
    "     ```\n",
    "     [1  0] [x]   [x]\n",
    "     [0 -1] [y] = [-y]\n",
    "     ```\n",
    "   - Terhadap sumbu y:\n",
    "     ```\n",
    "     [-1  0] [x]   [-x]\n",
    "     [ 0  1] [y] = [ y]\n",
    "     ```\n",
    "   - Terhadap garis y = x:\n",
    "     ```\n",
    "     [ 0  1] [x]   [y]\n",
    "     [ 1  0] [y] = [x]\n",
    "     ```\n",
    "\n",
    "5. **Shear** (regangan):\n",
    "   Shear paralel dengan sumbu x atau y:\n",
    "   - Shear sepanjang sumbu x:\n",
    "     ```\n",
    "     [1  k] [x]   [x + k*y]\n",
    "     [0  1] [y] = [    y    ]\n",
    "     ```\n",
    "   - Shear sepanjang sumbu y:\n",
    "     ```\n",
    "     [1  0] [x]   [    x    ]\n",
    "     [k  1] [y] = [x + k*y]\n",
    "     ```\n",
    "\n",
    "Untuk mendapatkan fungsi transformasi matriks yang spesifik, kita perlu menentukan parameter-parameter yang relevan (misalnya, titik pusat rotasi, sudut rotasi, faktor skala, dll.) dan menggunakan matriks yang sesuai untuk merepresentasikan transformasi tersebut.\n",
    "\n",
    "Jika kita memiliki kasus transformasi yang lebih kompleks atau gabungan dari beberapa transformasi, kita bisa menggabungkan matriks-matriks transformasi tersebut dengan melakukan perkalian matriks dalam urutan yang benar (perhatikan bahwa urutan perkalian matriks bisa memengaruhi hasil akhir).\n",
    "\n",
    "Sebagai contoh, jika kita ingin menerapkan rotasi diikuti oleh skala, kita bisa menggunakan perkalian matriks:\n",
    "\n",
    "```\n",
    "M_hasil = M_skala * M_rotasi\n",
    "```\n",
    "\n",
    "Kemudian, untuk menerapkan transformasi ini pada titik (vektor kolom), kita bisa melakukan perkalian matriks dengan vektor tersebut:\n",
    "\n",
    "```\n",
    "vektor_hasil = M_hasil * vektor\n",
    "```\n",
    "\n",
    "perlu diingat bahwa dalam kasus transformasi yang melibatkan translasi, kita harus menggunakan homogeneous coordinates untuk memperoleh representasi matriks yang tepat."
   ]
  },
  {
   "cell_type": "markdown",
   "metadata": {},
   "source": [
    "## Rotasi dalam Transformasi Linier\n",
    "\n",
    "Rotasi adalah transformasi linier yang memutar vektor pada suatu sudut tertentu terhadap suatu titik atau sumbu.\n",
    "\n",
    "Jika T adalah transformasi rotasi dengan sudut θ, maka T(v) = [cos(θ) -sin(θ); sin(θ) cos(θ)]v.\n",
    "\n",
    "Rotasi banyak digunakan dalam animasi, desain grafis, dan komputasi geometri untuk memutarkan objek pada sumbu tertentu.\n",
    "\n",
    "Rotasi dalam transformasi linier adalah proses pemutarannya objek di sepanjang sumbu yang melalui titik pusatnya dengan jarak yang tetap dari pusat. Dalam konteks matematika, rotasi dapat direpresentasikan oleh matriks rotasi, yang digunakan untuk mengubah koordinat titik-titik dalam ruang vektor.\n",
    "\n",
    "Untuk melakukan rotasi dalam transformasi linier di Python, kita bisa menggunakan library NumPy yang memiliki fungsi-fungsi untuk operasi matriks. Berikut adalah contoh kode Python yang melakukan rotasi 2D menggunakan matriks rotasi:"
   ]
  },
  {
   "cell_type": "markdown",
   "metadata": {},
   "source": [
    "## Komposisi Transformasi Linier\n",
    "\n",
    "Dua atau lebih transformasi linier dapat dikompositkan untuk membentuk transformasi linier baru.\n",
    "\n",
    "Jika T dan S adalah dua transformasi linier, maka komposisi T∘S adalah transformasi linier baru yang memetakan elemen-elemen pada ruang vektor U ke elemen-elemen pada ruang vektor V.\n",
    "\n",
    "Komposisi transformasi linier banyak digunakan dalam pemrograman, pengolahan citra, dan aljabar linier terapan.\n",
    "\n",
    "Komposisi transformasi linier adalah operasi di mana dua atau lebih transformasi linier diterapkan secara berurutan.\n",
    "\n",
    "Dalam konteks matriks, komposisi transformasi linier diimplementasikan sebagai perkalian matriks.\n",
    "\n",
    "Matriks hasil dari perkalian tersebut merepresentasikan transformasi gabungan dari transformasi-transformasi yang dikomposisikan.\n",
    "\n"
   ]
  }
 ],
 "metadata": {
  "kernelspec": {
   "display_name": "Python 3",
   "language": "python",
   "name": "python3"
  },
  "language_info": {
   "codemirror_mode": {
    "name": "ipython",
    "version": 3
   },
   "file_extension": ".py",
   "mimetype": "text/x-python",
   "name": "python",
   "nbconvert_exporter": "python",
   "pygments_lexer": "ipython3",
   "version": "3.10.13"
  }
 },
 "nbformat": 4,
 "nbformat_minor": 2
}
