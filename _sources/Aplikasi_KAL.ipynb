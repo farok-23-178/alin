{
  "cells": [
    {
      "cell_type": "markdown",
      "metadata": {
        "id": "yeeJajA0NL0z"
      },
      "source": [
        "# Aplikasi KAL"
      ]
    },
    {
      "cell_type": "markdown",
      "metadata": {
        "id": "FQIh0Yo2NL1A"
      },
      "source": [
        "**PageRank**\n",
        "\n",
        "\n",
        "PageRank adalah sebuah algoritma yang dikembangkan oleh Larry Page dan Sergey Brin, pendiri Google, untuk menilai dan merangking halaman web berdasarkan pentingnya. Algoritma ini didasarkan pada struktur tautan (link) dari web, dengan asumsi bahwa halaman web yang lebih penting akan lebih banyak ditautkan oleh halaman web lainnya"
      ]
    },
    {
      "cell_type": "markdown",
      "metadata": {
        "id": "jrJJgtJ4NL1C"
      },
      "source": [
        "**konsep Dasar PageRank**\n",
        "\n",
        "* Tautan Sebagai Suara:\n",
        "\n",
        "Setiap tautan dari satu halaman web ke halaman web lain dianggap sebagai suara. Namun, tidak semua suara memiliki bobot yang sama. Suara dari halaman yang lebih penting dihitung lebih besar daripada suara dari halaman yang kurang penting.\n",
        "\n",
        "* Distribusi Nilai PageRank:\n",
        "\n",
        "Nilai PageRank dari sebuah halaman didistribusikan ke halaman-halaman yang ditautkannya. Sebagai contoh, jika halaman A memiliki PageRank tinggi dan menautkan ke halaman B, maka halaman B akan mendapatkan peningkatan nilai PageRank.\n",
        "\n",
        "* Iterasi PageRank:\n",
        "\n",
        "PageRank dihitung secara iteratif. Dimulai dengan memberikan nilai awal yang sama ke setiap halaman, kemudian nilai-nilai ini diperbarui berulang kali berdasarkan tautan-tautan antar halaman hingga nilai PageRank konvergen"
      ]
    },
    {
      "cell_type": "markdown",
      "metadata": {
        "id": "FQlHTC85NL1D"
      },
      "source": [
        "**Rumus PageRank**\n",
        "\n",
        "\n",
        "Rumus dasar untuk menghitung PageRank\n",
        "𝑃𝑅\n",
        "(𝐴)\n",
        "dari halaman A adalah sebagai berikut:\n",
        "\n",
        "$PR(A) = (1 - d) + d \\left( \\sum_{i=1}^n \\frac{PR(T_i)}{C(T_i)} \\right)$\n",
        "\n",
        "* $PR(A)$: PageRank dari halaman A\n",
        "\n",
        "* 𝑑: Damping factor, biasanya sekitar 0.85, yang merepresentasikan kemungkinan pengguna melanjutkan penelusuran ke tautan berikutnya daripada memulai pencarian baru\n",
        "\n",
        "* $T i$\n",
        " : Halaman-halaman yang menautkan ke halaman A\n",
        "\n",
        "* $PR(Ti​)$: PageRank dari halaman\n",
        "𝑇𝑖\n",
        "\n",
        "* $C(Ti)$: Jumlah tautan keluar (outbound links) dari halaman\n",
        "𝑇𝑖\n",
        "​\n"
      ]
    },
    {
      "cell_type": "markdown",
      "metadata": {
        "id": "ezYvrhulNL1F"
      },
      "source": [
        "**Proses iterasi**\n",
        "\n",
        "1.Inisialisasi:\n",
        "\n",
        "Semua halaman diberikan nilai PageRank awal yang sama, misalnya 1.\n",
        "\n",
        "2.Perbarui Nilai PageRank:\n",
        "\n",
        "Gunakan rumus di atas untuk memperbarui nilai PageRank setiap halaman berdasarkan PageRank halaman-halaman yang menautkannya.\n",
        "\n",
        "3.Konvergensi:\n",
        "\n",
        "Ulangi langkah 2 sampai nilai PageRank semua halaman berubah sangat kecil atau mencapai tingkat konvergensi yang ditentukan.\n",
        "\n"
      ]
    },
    {
      "cell_type": "markdown",
      "metadata": {
        "id": "XlIP9mndNL1F"
      },
      "source": [
        "## Implementasi PageRank\n",
        "\n",
        "* Random Walk (Jalan acak)\n",
        "\n",
        "Web dapat direpresentasikan seperti grafik berarah\n",
        "di mana node mewakili halaman web dan tepinya membentuk hubungan di antara keduanya.\n",
        "Biasanya, jika sebuah node (halaman web)Sayaterhubung ke sebuah nodeJ, itu artinyaSayamengacu padaJ.\n",
        "\n",
        "$A --> B\n",
        "A --> C\n",
        "B --> D\n",
        "C --> D\n",
        "D --> A\n",
        "$\n",
        "\n",
        "\n",
        "Kita harus mendefinisikan apa pentingnya halaman web. Sebagai pendekatan pertama, kita dapat mengatakan bahwa ini adalah jumlah total halaman web yang merujuk padanya. Jika kita berhenti pada kriteria ini, pentingnya halaman web yang merujuk padanya tidak diperhitungkan. Dengan kata lain, halaman web yang penting dan halaman yang kurang penting memiliki bobot yang sama. Pendekatan lain adalah dengan berasumsi bahwa suatu halaman web menyebarkan kepentingannya secara merata ke semua halaman web yang ditautkannya. Dengan melakukan itu, kita kemudian dapat menentukan skor dari sebuah node j sebagai berikut:  \n",
        "$$r_j = \\sum_{i \\rightarrow j} \\frac{r_i}{d_i}$$\n",
        "\n",
        "dimana rᵢ adalah skor dari node i dan dᵢ derajat keluarnya  \n",
        "\n",
        "\n",
        "\n",
        "\n",
        "Dari contoh di atas, kita dapat menulis sistem linier berikut.\n",
        "\n",
        "$\\begin{cases}\n",
        "r_0 = \\frac{r_4}{3} \\\\\n",
        "r_1 = \\frac{r_2}{2} + \\frac{r_4}{3} + r_3 \\\\\n",
        "r_2 = \\frac{r_0}{3} + \\frac{r_4}{3} \\\\\n",
        "r_3 = \\frac{r_2}{2} + \\frac{r_0}{3} \\\\\n",
        "r_4 = \\frac{r_0}{3} + r_1\n",
        "\\end{cases}\n",
        "$"
      ]
    },
    {
      "cell_type": "markdown",
      "source": [
        "* implementasi hitung manual"
      ],
      "metadata": {
        "id": "QLbBkL7FOceA"
      }
    },
    {
      "cell_type": "code",
      "source": [
        "import numpy as np"
      ],
      "metadata": {
        "id": "mWFJHxC6OQ2U"
      },
      "execution_count": 3,
      "outputs": []
    },
    {
      "cell_type": "code",
      "source": [
        "A = np.array ([[0,0,1,1/2],[1/3,0,0,0],[1/3,1/2,0,1/2],[1/3,1/2,0,0]])\n",
        "V0 = np.array ([[0.25],[0.25],[0.25],[0.25]])\n",
        "V1 = A@V0\n",
        "print(V1)\n",
        "V2 = A@V1\n",
        "print(V2)\n",
        "V3 = A@V2\n",
        "print(V3)\n",
        "V4 = A@V3\n",
        "print(V4)\n",
        "V5 = A@V4\n",
        "print(V5)\n",
        "V6 = A@V5\n",
        "print(V6)\n",
        "V7 = A@V6\n",
        "print(V7)\n",
        "V8 = A@V7\n",
        "print(V8)\n",
        "V0 = np.array ([[0.3],[0.2],[0.3],[0.2]])\n",
        "V1 = A@V0\n",
        "print(V1)\n",
        "V2 = A@V1\n",
        "print(V2)\n",
        "V3 = A@V2\n",
        "print(V3)\n",
        "V4 = A@V3\n",
        "print(V4)\n",
        "V5 = A@V4\n",
        "print(V5)\n",
        "V6 = A@V5\n",
        "print(V6)\n",
        "V7 = A@V6\n",
        "print(V7)\n",
        "V8 =A@V7\n",
        "print(V8)\n"
      ],
      "metadata": {
        "colab": {
          "base_uri": "https://localhost:8080/"
        },
        "id": "utCcP9PoOPGw",
        "outputId": "e49d354c-d1cf-447a-9200-d1767035e71c"
      },
      "execution_count": 4,
      "outputs": [
        {
          "output_type": "stream",
          "name": "stdout",
          "text": [
            "[[0.375     ]\n",
            " [0.08333333]\n",
            " [0.33333333]\n",
            " [0.20833333]]\n",
            "[[0.4375    ]\n",
            " [0.125     ]\n",
            " [0.27083333]\n",
            " [0.16666667]]\n",
            "[[0.35416667]\n",
            " [0.14583333]\n",
            " [0.29166667]\n",
            " [0.20833333]]\n",
            "[[0.39583333]\n",
            " [0.11805556]\n",
            " [0.29513889]\n",
            " [0.19097222]]\n",
            "[[0.390625  ]\n",
            " [0.13194444]\n",
            " [0.28645833]\n",
            " [0.19097222]]\n",
            "[[0.38194444]\n",
            " [0.13020833]\n",
            " [0.29166667]\n",
            " [0.19618056]]\n",
            "[[0.38975694]\n",
            " [0.12731481]\n",
            " [0.29050926]\n",
            " [0.19241898]]\n",
            "[[0.38671875]\n",
            " [0.12991898]\n",
            " [0.28978588]\n",
            " [0.19357639]]\n",
            "[[0.4]\n",
            " [0.1]\n",
            " [0.3]\n",
            " [0.2]]\n",
            "[[0.4       ]\n",
            " [0.13333333]\n",
            " [0.28333333]\n",
            " [0.18333333]]\n",
            "[[0.375     ]\n",
            " [0.13333333]\n",
            " [0.29166667]\n",
            " [0.2       ]]\n",
            "[[0.39166667]\n",
            " [0.125     ]\n",
            " [0.29166667]\n",
            " [0.19166667]]\n",
            "[[0.3875    ]\n",
            " [0.13055556]\n",
            " [0.28888889]\n",
            " [0.19305556]]\n",
            "[[0.38541667]\n",
            " [0.12916667]\n",
            " [0.29097222]\n",
            " [0.19444444]]\n",
            "[[0.38819444]\n",
            " [0.12847222]\n",
            " [0.29027778]\n",
            " [0.19305556]]\n",
            "[[0.38680556]\n",
            " [0.12939815]\n",
            " [0.29016204]\n",
            " [0.19363426]]\n"
          ]
        }
      ]
    },
    {
      "cell_type": "markdown",
      "source": [
        "* implementasi code"
      ],
      "metadata": {
        "id": "lXrQZ8TrPFoo"
      }
    },
    {
      "cell_type": "code",
      "source": [
        "A = np.array ([[0.3],[0.2],[0.3],[0.2]])\n",
        "print(f'matrik A:{A}')\n",
        "\n",
        "jumlah_matriks = 5\n",
        "\n",
        "toleransi = 0.05\n",
        "def hitung_error(matriks1, matriks2):\n",
        "    error_absolut = np.abs(matriks1 - matriks2)\n",
        "    error_relatif = np.abs((matriks1 - matriks2) / matriks1)\n",
        "    return error_absolut, error_relatif\n",
        "\n",
        "for i in range(jumlah_matriks):\n",
        "    matriks_acak = np.random.uniform([[0.25],[0.25],[0.25],[0.25]])\n",
        "    print(f'matrik acak:{matriks_acak}')\n",
        "\n",
        "    # Menghitung error\n",
        "    error_absolut, error_relatif = hitung_error(A, matriks_acak)\n",
        "\n",
        "    within_tolerance = error_relatif < toleransi\n",
        "\n",
        "    print()\n",
        "    print(f\"Matriks {i+1}:\")\n",
        "    print(\"Matriks Acak:\", matriks_acak)\n",
        "    print(\"Error Absolut:\", error_absolut)\n",
        "    print(\"Error Relatif:\", error_relatif)\n",
        "    print(\"Within Tolerance:\", within_tolerance)\n",
        "    print()"
      ],
      "metadata": {
        "colab": {
          "base_uri": "https://localhost:8080/"
        },
        "id": "ZnrosZMCN6as",
        "outputId": "b7ca3d37-c81a-4db9-9e80-6f875012ab82"
      },
      "execution_count": 5,
      "outputs": [
        {
          "output_type": "stream",
          "name": "stdout",
          "text": [
            "matrik A:[[0.3]\n",
            " [0.2]\n",
            " [0.3]\n",
            " [0.2]]\n",
            "matrik acak:[[0.62691801]\n",
            " [0.38274397]\n",
            " [0.84808585]\n",
            " [0.40335923]]\n",
            "\n",
            "Matriks 1:\n",
            "Matriks Acak: [[0.62691801]\n",
            " [0.38274397]\n",
            " [0.84808585]\n",
            " [0.40335923]]\n",
            "Error Absolut: [[0.32691801]\n",
            " [0.18274397]\n",
            " [0.54808585]\n",
            " [0.20335923]]\n",
            "Error Relatif: [[1.08972672]\n",
            " [0.91371986]\n",
            " [1.82695283]\n",
            " [1.01679616]]\n",
            "Within Tolerance: [[False]\n",
            " [False]\n",
            " [False]\n",
            " [False]]\n",
            "\n",
            "matrik acak:[[0.41606923]\n",
            " [0.66311976]\n",
            " [0.90452849]\n",
            " [0.48605658]]\n",
            "\n",
            "Matriks 2:\n",
            "Matriks Acak: [[0.41606923]\n",
            " [0.66311976]\n",
            " [0.90452849]\n",
            " [0.48605658]]\n",
            "Error Absolut: [[0.11606923]\n",
            " [0.46311976]\n",
            " [0.60452849]\n",
            " [0.28605658]]\n",
            "Error Relatif: [[0.38689744]\n",
            " [2.3155988 ]\n",
            " [2.01509497]\n",
            " [1.4302829 ]]\n",
            "Within Tolerance: [[False]\n",
            " [False]\n",
            " [False]\n",
            " [False]]\n",
            "\n",
            "matrik acak:[[0.64510626]\n",
            " [0.27957317]\n",
            " [0.56833422]\n",
            " [0.27538922]]\n",
            "\n",
            "Matriks 3:\n",
            "Matriks Acak: [[0.64510626]\n",
            " [0.27957317]\n",
            " [0.56833422]\n",
            " [0.27538922]]\n",
            "Error Absolut: [[0.34510626]\n",
            " [0.07957317]\n",
            " [0.26833422]\n",
            " [0.07538922]]\n",
            "Error Relatif: [[1.15035419]\n",
            " [0.39786586]\n",
            " [0.8944474 ]\n",
            " [0.37694612]]\n",
            "Within Tolerance: [[False]\n",
            " [False]\n",
            " [False]\n",
            " [False]]\n",
            "\n",
            "matrik acak:[[0.58516323]\n",
            " [0.94170372]\n",
            " [0.2949462 ]\n",
            " [0.77608321]]\n",
            "\n",
            "Matriks 4:\n",
            "Matriks Acak: [[0.58516323]\n",
            " [0.94170372]\n",
            " [0.2949462 ]\n",
            " [0.77608321]]\n",
            "Error Absolut: [[0.28516323]\n",
            " [0.74170372]\n",
            " [0.0050538 ]\n",
            " [0.57608321]]\n",
            "Error Relatif: [[0.9505441 ]\n",
            " [3.7085186 ]\n",
            " [0.016846  ]\n",
            " [2.88041605]]\n",
            "Within Tolerance: [[False]\n",
            " [False]\n",
            " [ True]\n",
            " [False]]\n",
            "\n",
            "matrik acak:[[0.62712088]\n",
            " [0.75056871]\n",
            " [0.58942458]\n",
            " [0.67509988]]\n",
            "\n",
            "Matriks 5:\n",
            "Matriks Acak: [[0.62712088]\n",
            " [0.75056871]\n",
            " [0.58942458]\n",
            " [0.67509988]]\n",
            "Error Absolut: [[0.32712088]\n",
            " [0.55056871]\n",
            " [0.28942458]\n",
            " [0.47509988]]\n",
            "Error Relatif: [[1.09040292]\n",
            " [2.75284355]\n",
            " [0.96474861]\n",
            " [2.37549942]]\n",
            "Within Tolerance: [[False]\n",
            " [False]\n",
            " [False]\n",
            " [False]]\n",
            "\n"
          ]
        }
      ]
    }
  ],
  "metadata": {
    "kernelspec": {
      "display_name": ".venv",
      "language": "python",
      "name": "python3"
    },
    "language_info": {
      "codemirror_mode": {
        "name": "ipython",
        "version": 3
      },
      "file_extension": ".py",
      "mimetype": "text/x-python",
      "name": "python",
      "nbconvert_exporter": "python",
      "pygments_lexer": "ipython3",
      "version": "3.11.8"
    },
    "colab": {
      "provenance": []
    }
  },
  "nbformat": 4,
  "nbformat_minor": 0
}