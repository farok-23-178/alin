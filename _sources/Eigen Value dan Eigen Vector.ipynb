{
 "cells": [
  {
   "cell_type": "markdown",
   "metadata": {},
   "source": [
    "## **Eigen Value dan Eigen Vector**\n"
   ]
  },
  {
   "cell_type": "markdown",
   "metadata": {},
   "source": [
    "## **Konsep Eigen Value dan Eigen Vector**"
   ]
  },
  {
   "cell_type": "markdown",
   "metadata": {},
   "source": [
    "Eigen Value dan Eigen Vector adalah Analisis Komponen Utama\n",
    "Secara intuitif , PCA adalah prosedur transformasi yang mengubah matriks data dengan fitur-fitur yang mungkin berkorelasi menjadi sekumpulan variabel yang tidak berkorelasi linier yang disebut komponen utama . Setiap komponen utama merupakan kombinasi linier dari fitur asli ( PCᵢ = Xϕᵢ , di sini PCᵢ adalah singkatan dari komponen utama ke-i) dan memperhitungkan varian terbesar yang mungkin terjadi serta ortogonal terhadap komponen sebelumnya (jika i ≠ j, PCᵢ ⋅ PCⱼ = 0 ).\n",
    "\n",
    "Mengingat matriks fitur X berbentuk n × p yang berada di tengah , yaitu rata-rata kolom telah dikurangi dan sekarang sama dengan nol , kasus penggunaan PCA yang umum meliputi:"
   ]
  },
  {
   "cell_type": "markdown",
   "metadata": {},
   "source": [
    "1.Pengurangan dimensi: temukan perkiraan dimensi yang lebih rendah dari X bentuk n × k (di mana k jauh lebih kecil dari p ) dengan tetap mempertahankan sebagian besar varian, sebagai langkah pra-pemrosesan untuk klasifikasi atau visualisasi.\n",
    "\n",
    "2.Rekayasa fitur: membuat representasi baru dari X dengan p fitur yang tidak berkorelasi linier.\n",
    "\n",
    "3.Pembelajaran tanpa pengawasan: ekstrak k komponen utama (di mana k seringkali jauh lebih kecil dari p ).\n",
    "\n",
    "4.Pahami kumpulan data dengan melihat bagaimana fitur asli berkontribusi terhadap faktor-faktor ini"
   ]
  },
  {
   "cell_type": "markdown",
   "metadata": {},
   "source": [
    "#PCA melalui Dekomposisi Nilai Eigen\n",
    "\n",
    "\n",
    "Secara konvensional, PCA didasarkan pada EVD pada matriks kovarians sampel C . Dengan asumsi X berada di tengah:\n",
    "\n",
    "\n",
    "C berbentuk p× p . Ini simetris dan karenanya selalu dapat didiagonalisasi. Kita dapat menerapkan dekomposisi nilai eigen:\n",
    "\n",
    "\n",
    "Q adalah matriks ortogonal dan kolom-kolomnya merupakan vektor eigen dari C\n",
    "\n",
    " ( Q =[ q₁ , q₂ , …, qₚ ])\n",
    "\n",
    ". ∧ adalah matriks diagonal dengan nilai eigen dalam urutan menurun pada diagonalnya\n",
    "\n",
    "( λ₁ ≥ λ₂ ≥ … ≥ λₚ ≥ 0):\n",
    "\n",
    "\n",
    "Di sini qᵢ adalah kolom ke-i dari Q dan disebut juga arah utama ke-i . λᵢ adalah elemen diagonal ke-i dari ∧. Komponen utama merupakan proyeksi matriks fitur asli pada arah utama dan dapat diperoleh dengan XQ . Proporsi varians total yang dijelaskan oleh komponen utama ke-i adalah\n",
    "\n",
    " λᵢ / (λ₁ + λ₂ + .. + λₚ) .\n",
    "\n",
    "Di bawah ini adalah implementasi PCA melalui EVD dengan Python:"
   ]
  },
  {
   "cell_type": "markdown",
   "metadata": {},
   "source": [
    "perhitungan Matriks 2x2\n",
    "\n",
    "\n",
    "**Nilai Eigen**\n",
    "\n",
    "   Eigenvalues dari matriks 2x2 \\( $A$ \\) dapat ditemukan dengan menyelesaikan persamaan karakteristik \\( $\\text{det}(A - \\lambda I) = 0$ \\), di mana \\( $I$ \\) adalah matriks identitas 2x2 dan \\( $\\lambda$ \\) adalah eigenvalue yang dicari. Persamaan karakteristik untuk matriks 2x2 \\($ A = \\begin{pmatrix} a & b \\\\ c & d \\end{pmatrix}$ \\) adalah \\( $\\text{det}\\left(\\begin{pmatrix} a-\\lambda & b \\\\ c & d-\\lambda \\end{pmatrix}\\right) = (a-\\lambda)(d-\\lambda) - bc = 0$ \\). Solusi dari persamaan ini memberikan dua nilai eigenvalues.\n",
    "\n",
    "**Vektor Eigen:**\n",
    "\n",
    "   Eigenvectors adalah vektor-vektor yang, ketika dikalikan dengan matriks 2x2 \\($A$ \\), hanya mengalami perubahan skala (memanjang atau memendek) dan tidak mengalami perubahan arah. Untuk menemukan eigenvectors, kita substitusikan setiap eigenvalue ke dalam persamaan \\( $(A - \\lambda I) \\mathbf{v} = 0$ \\), di mana \\( $\\mathbf{v}$ \\) adalah vektor eigen yang kita cari. Solusi dari persamaan ini memberikan eigenvectors yang bersesuaian.\n",
    "\n",
    " 3x3\n",
    "\n",
    "\n",
    "**Nilai Eigen**\n",
    "\n",
    "   Eigenvalues dari matriks 3x3 \\( $A$ \\) ditemukan dengan menyelesaikan persamaan karakteristik \\( $\\text{det}(A - \\lambda I) = 0$ \\), di mana \\( $I$ \\) adalah matriks identitas 3x3 dan \\( $\\lambda$ \\) adalah eigenvalue yang dicari. Persamaan ini akan menghasilkan persamaan kubik dalam \\( $\\lambda$ \\), yang memiliki tiga solusi eigenvalues.\n",
    "\n",
    "**vektor Eigen:**\n",
    "\n",
    "   Eigenvectors dari matriks 3x3 adalah vektor-vektor yang, ketika dikalikan dengan matriks 3x3 \\( $A$ \\), hanya mengalami perubahan skala dan tidak mengalami perubahan arah. Untuk setiap eigenvalue yang ditemukan, kita substitusikan ke dalam persamaan \\( $(A - \\lambda I) \\mathbf{v} = 0$ \\) untuk mencari vektor eigen yang sesuai. Ini akan menghasilkan sistem persamaan linear yang harus diselesaikan untuk mendapatkan eigenvectors.\n"
   ]
  },
  {
   "cell_type": "markdown",
   "metadata": {},
   "source": [
    "**contoh hitung eigen value dan eigen vektor pake numpy**\n",
    "\n",
    "Untuk menghitung nilai eigen (eigenvalues) dan vektor eigen (eigenvectors) dari sebuah matriks menggunakan numpy, kamu bisa menggunakan fungsi numpy.linalg.eig.\n",
    "Berikut adalah langkah-langkah dan contoh kode untuk melakukannya:\n",
    "\n",
    "Impor numpy.\n",
    "\n",
    "1.Definisikan matriks yang ingin kamu hitung nilai eigen dan vektor eigennya.\n",
    "\n",
    "2.Gunakan fungsi numpy.linalg.eig untuk menghitung nilai eigen dan vektor eigen.\n",
    "\n",
    "3.Tampilkan hasilnya.\n",
    "\n",
    "Berikut adalah contoh kode lengkapnya:"
   ]
  },
  {
   "cell_type": "markdown",
   "metadata": {},
   "source": [
    "Matriks 2x2"
   ]
  },
  {
   "cell_type": "code",
   "execution_count": null,
   "metadata": {},
   "outputs": [],
   "source": [
    "import numpy as np\n",
    "\n",
    "# Definisikan matriks\n",
    "A = np.array([[4, 2],\n",
    "              [1, 3]])\n",
    "\n",
    "# Hitung nilai eigen dan vektor eigen\n",
    "eigenvalues, eigenvectors = np.linalg.eig(A)\n",
    "\n",
    "# Tampilkan hasilnya\n",
    "print(\"Nilai Eigen (Eigenvalues):\")\n",
    "print(eigenvalues)\n",
    "\n",
    "print(\"\\nVektor Eigen (Eigenvectors):\")\n",
    "print(eigenvectors)"
   ]
  },
  {
   "cell_type": "markdown",
   "metadata": {},
   "source": [
    "Matriks 3x3"
   ]
  },
  {
   "cell_type": "code",
   "execution_count": null,
   "metadata": {},
   "outputs": [],
   "source": [
    "import numpy as np\n",
    "from numpy.linalg import eig\n",
    "\n",
    "# Matriks 3x3\n",
    "A = np.array([[1,4,1],[2,3,2],[2,4,5]])\n",
    "\n",
    "# Menghitung eigenvalue dan eigenvector\n",
    "w,v = eig(A)\n",
    "\n",
    "print(A, '\\n')\n",
    "print('E-value', w.round(), '\\n')\n",
    "print('E-value', v.round(), '\\n')"
   ]
  },
  {
   "cell_type": "markdown",
   "metadata": {},
   "source": [
    "**Contoh Implementasi** \n",
    "\n",
    "Implementasi PCA melalui EVD dengan python:"
   ]
  },
  {
   "cell_type": "code",
   "execution_count": null,
   "metadata": {},
   "outputs": [],
   "source": [
    "import numpy as np\n",
    "\n",
    "def pcaSVD(X):\n",
    "    n, p = X.shape\n",
    "    X_centered = X - X.mean(axis=0)  # Pusatkan data\n",
    "\n",
    "    u, sigma, vt = np.linalg.svd(X_centered, full_matrices=False)\n",
    "\n",
    "    # Mengembalikan komponen utama dan eigenvalue\n",
    "    return (X_centered @ vt.T), (sigma**2) / (n-1)\n",
    "\n",
    "# Data contoh\n",
    "x = np.array([[1, 4], [2, 3]])\n",
    "\n",
    "komponen_utama, eigenvalue = pcaSVD(x)\n",
    "print(\"Komponen utama:\\n\", komponen_utama.round())\n",
    "print(\"Eigenvalue:\\n\", eigenvalue.round())\n"
   ]
  }
 ],
 "metadata": {
  "kernelspec": {
   "display_name": "Python 3",
   "language": "python",
   "name": "python3"
  },
  "language_info": {
   "codemirror_mode": {
    "name": "ipython",
    "version": 3
   },
   "file_extension": ".py",
   "mimetype": "text/x-python",
   "name": "python",
   "nbconvert_exporter": "python",
   "pygments_lexer": "ipython3",
   "version": "3.10.13"
  }
 },
 "nbformat": 4,
 "nbformat_minor": 2
}
